{
 "cells": [
  {
   "cell_type": "code",
   "execution_count": 1,
   "id": "61581e74-c3a8-4b19-aabc-a4cf7e93757c",
   "metadata": {},
   "outputs": [],
   "source": [
    "from math import log2,comb as binom, log, sqrt\n",
    "from random import randint, shuffle\n",
    "import numpy as np\n",
    "import hashlib\n",
    "import struct\n",
    "import random"
   ]
  },
  {
   "cell_type": "code",
   "execution_count": 2,
   "id": "de32d5be-3e79-4166-b9c1-f63b5a695f7b",
   "metadata": {},
   "outputs": [],
   "source": [
    "def precalc_binoms():\n",
    "    \"\"\"\n",
    "    precompute binomial coefficients\n",
    "    \"\"\"\n",
    "    b=[[0 for j in range(w+1)] for i in range(n+1)]\n",
    "    for i in range(n):\n",
    "        for j in range(w+1):\n",
    "            if i>=j:\n",
    "                b[i][j]=binom(i,j)\n",
    "    return b"
   ]
  },
  {
   "cell_type": "code",
   "execution_count": 3,
   "id": "8909c580-8c0f-4b18-877e-1bffde1f79fb",
   "metadata": {},
   "outputs": [],
   "source": [
    "def projection(a,n,w):\n",
    "    \"\"\"\n",
    "    bijection between integers and length-n weigh-w binary strings\n",
    "    \"\"\"\n",
    "    wt=w\n",
    "    wn = n;\n",
    "    wk = w;\n",
    "    v = 0;\n",
    "    setc = 0;\n",
    "    while (wn != 0):\n",
    "        \n",
    "        if (setc == wt):\n",
    "            break;\n",
    "        elif (wn + setc == wt):\n",
    "            v += (1 << (wn - 1));\n",
    "            wn -= 1;\n",
    "            setc += 1;\n",
    "        elif (a < binom_list[wn - 1][wk]):\n",
    "            wn -= 1;\n",
    "        else:\n",
    "            a -= binom_list[wn - 1][wk];\n",
    "            v += (1 << (wn - 1));\n",
    "            wn -= 1;\n",
    "            wk -= 1;\n",
    "            setc += 1;\n",
    "    return v"
   ]
  },
  {
   "cell_type": "code",
   "execution_count": 4,
   "id": "51cfb637-17a1-4eec-8fb9-16f82c3eb136",
   "metadata": {},
   "outputs": [],
   "source": [
    "def merge_vecs(v1,v2,n,w):\n",
    "    \"\"\"\n",
    "    given n bit integer v1 with exactly n-w zeros and n-w bit integer v2 copy v2 to the zero\n",
    "    positions of v1 with the 1s in v1 substituted by -1s\n",
    "    \"\"\"\n",
    "    v1=((v1 & (1 << np.arange(n))) > 0).astype(np.int)\n",
    "    v2=((v2 & (1 << np.arange(n-w))) > 0).astype(np.int)\n",
    "    zero_indices = np.where(v1 == 0)[0]\n",
    "    v2[v2==1]=-1\n",
    "    v1[zero_indices] = v2\n",
    "    return v1\n",
    "            \n",
    "def projection_ternary(a,n,w):\n",
    "    \"\"\"\n",
    "    projection between integers and length-n ternary vectors with exactly w 1s and w -1s\n",
    "    \"\"\"\n",
    "    B1 = binom(n,w)\n",
    "    \n",
    "    # split input in pair of numbers i1,i2 with ij<Bj\n",
    "    i1=a%B1\n",
    "    i2=int((a-i1)/B1)\n",
    "    # determine positions of ones via projection\n",
    "    v = projection(i1,n,w)\n",
    "\n",
    "    # from remaing n-w not set entries determine positions of -1s (here 2s)\n",
    "    v2 =projection(i2,n-w,w)\n",
    "\n",
    "    # merge both choices in one vector\n",
    "    s=merge_vecs(v,v2,n,w)\n",
    "    \n",
    "    return s"
   ]
  },
  {
   "cell_type": "markdown",
   "id": "63706f1c-1a78-4553-8e0f-fab1308e071a",
   "metadata": {},
   "source": [
    "### Test the projections"
   ]
  },
  {
   "cell_type": "code",
   "execution_count": 5,
   "id": "c9eb7cf4-cc8f-4642-8b33-645997a3feab",
   "metadata": {},
   "outputs": [],
   "source": [
    "n,w=12,2\n",
    "binom_list=precalc_binoms()\n",
    "\n",
    "amount = binom(n,w)*binom(n-w,w)\n",
    "L=[]\n",
    "for i in range(amount): \n",
    "    v=projection_ternary(i,n,w)\n",
    "    L.append(v)"
   ]
  },
  {
   "cell_type": "code",
   "execution_count": 6,
   "id": "0c9d48d7-7759-41b0-8630-7f792eadd413",
   "metadata": {},
   "outputs": [],
   "source": [
    "for i in range(len(L)):\n",
    "    for j in range(len(L)):\n",
    "        if i==j:\n",
    "            continue\n",
    "        elif all(L[i]==L[j]):\n",
    "            print(\"error\",i,j)\n",
    "    "
   ]
  },
  {
   "cell_type": "code",
   "execution_count": 7,
   "id": "1af9ebc5-9be7-45b7-ba66-10332cec6532",
   "metadata": {},
   "outputs": [
    {
     "name": "stdout",
     "output_type": "stream",
     "text": [
      "bijection works as intended\n"
     ]
    }
   ],
   "source": [
    "every_vector_has_desired_form=True\n",
    "for i in L:\n",
    "    if np.count_nonzero(i == 0)!= n-2*w or np.count_nonzero(i == 1)!=w or np.count_nonzero(i ==-1)!=w or len(i)!=n:\n",
    "        every_vector_has_desired_form=False\n",
    "if every_vector_has_desired_form and len(L)==amount:\n",
    "    print(\"bijection works as intended\")\n",
    "else:\n",
    "    print(\"ERROR: bijection not working\")"
   ]
  },
  {
   "cell_type": "markdown",
   "id": "0cfcc1e0-289c-4d60-af94-eb64b2e329c2",
   "metadata": {},
   "source": [
    "# Collision Search stuff"
   ]
  },
  {
   "cell_type": "code",
   "execution_count": 8,
   "id": "786ba61d-a678-4469-9756-ee0681494c9c",
   "metadata": {},
   "outputs": [],
   "source": [
    "def floyd(f, x0):\n",
    "    \"\"\"\n",
    "    Floyds cycle finding returns colliding inputs and number of steps until collision was noticed\n",
    "    \"\"\"\n",
    "    # Set up the initial parameters\n",
    "    tortoise = f(x0)\n",
    "    hare = f(f(x0))\n",
    "    count = 0\n",
    "    # Search for a collision\n",
    "    while tortoise != hare:\n",
    "        tortoise = f(tortoise)\n",
    "        hare = f(f(hare))\n",
    "        count+=1\n",
    "\n",
    "    # Find the position of the first collision\n",
    "    mu = 0\n",
    "    tortoise = x0\n",
    "    x1,x2=tortoise,hare\n",
    "    while tortoise != hare:\n",
    "        x1,x2=tortoise,hare\n",
    "        tortoise = f(tortoise)\n",
    "        hare = f(hare)\n",
    "        mu += 1\n",
    "\n",
    "    return x1,x2,count"
   ]
  },
  {
   "cell_type": "code",
   "execution_count": 9,
   "id": "044d7dd3-de6a-4852-b55b-87c72f01a30f",
   "metadata": {},
   "outputs": [],
   "source": [
    "def calc_lwe_func(s,switch=False):\n",
    "    \"\"\"\n",
    "    calculates A*s or b-A*s for given vector s depending on switch\n",
    "    \"\"\"\n",
    "    if not(switch):\n",
    "        return A.dot(s)%q\n",
    "    else:\n",
    "        return (b-A.dot(s))%q\n",
    "    \n",
    "def calc_number(out):\n",
    "    \"\"\"\n",
    "    convert vector in Zq^ell into log2(q)*ell bit integer\n",
    "    \"\"\"\n",
    "    #only implemented for power of two till now for efficiency reason:\n",
    "    a=out[0]\n",
    "    for i in range(1,ell):\n",
    "        a+=out[i]<<(i*bit_q)\n",
    "    return a %domain\n",
    "\n",
    "\n",
    "def flavour(a):\n",
    "    \"\"\"\n",
    "    random permutation of a mod modul_p\n",
    "    \"\"\"\n",
    "    return (f1*int(a)+f2)%modul_p\n",
    "\n",
    "def collision_func(a):\n",
    "    \"\"\"\n",
    "    function used for collision finding:\n",
    "        - apply flavor\n",
    "        - use bijection to obtain ternary vector v of desired weight\n",
    "        - calculate A*v \n",
    "        - return the corresponding log2(q)*ell bit integer associated with the result\n",
    "    \"\"\"\n",
    "    a=flavour(a)\n",
    "    v = projection_ternary(a,n,w)\n",
    "    out = calc_lwe_func(v,a%2)\n",
    "    a= calc_number(out)\n",
    "    return a \n",
    "\n",
    "\n",
    "# Random hash function that maps integers in the domain [0, M-1] to integers in the same domain using a cryptographic hash function\n",
    "def random_function(x):\n",
    "    # Convert x to bytes\n",
    "    data = struct.pack('!I', flavour(x))\n",
    "    \n",
    "    # Apply a hash function to the combined data\n",
    "    hash_obj = hashlib.sha256(data)\n",
    "    digest_bytes = hash_obj.digest()\n",
    "\n",
    "    # Convert the hash digest to an integer in the domain\n",
    "    return int.from_bytes(digest_bytes, byteorder='big') % domain\n",
    "\n",
    "    "
   ]
  },
  {
   "cell_type": "code",
   "execution_count": null,
   "id": "30b02c5b-a4c2-4512-85a3-e736e3b84b08",
   "metadata": {},
   "outputs": [],
   "source": []
  },
  {
   "cell_type": "markdown",
   "id": "0517159d-e6c4-42ab-aa7c-e489286db0b3",
   "metadata": {},
   "source": [
    "### Set all necessary parameters"
   ]
  },
  {
   "cell_type": "code",
   "execution_count": 10,
   "id": "4301cef4-3d8a-4cc4-9cae-6c740ed0de4d",
   "metadata": {},
   "outputs": [],
   "source": [
    "from sympy import prevprime"
   ]
  },
  {
   "cell_type": "code",
   "execution_count": 11,
   "id": "4d974eb4-3189-4b8c-8b0b-c71f663fe77f",
   "metadata": {},
   "outputs": [],
   "source": [
    "def exact_reps():\n",
    "    \"\"\"\n",
    "    calculates the exact amount of representations (not only the symmetric case)\n",
    "    \"\"\"\n",
    "    r=0\n",
    "    for i in range(max(0,w_s-w),min(w_s,w)+1):\n",
    "        r+=binom(w_s,i)**2*binom(n-2*w_s,w-i)*binom(n-2*w_s-(w-i),w-(w_s-i))\n",
    "    return log2(r)"
   ]
  },
  {
   "cell_type": "code",
   "execution_count": 12,
   "id": "2e216a49-8a31-4145-bc05-2c00a7eb27dc",
   "metadata": {},
   "outputs": [],
   "source": [
    "\n",
    "n=13\n",
    "w=2\n",
    "w_s=2\n",
    "q=16\n",
    "bit_q=int(log2(q))\n",
    "\n",
    "binom_list=precalc_binoms()\n",
    "\n",
    "if (q & (q - 1)) != 0:\n",
    "    print(\"ERROR: currently only implemented for q being a power of two (for efficiency reasons)\")\n",
    "if w<w_s/2:\n",
    "    print(\"ERROR: w needs to be at least w_s/2\")\n",
    "if w_s%2==1:\n",
    "    print(\"ERROR: w_s must be even\")\n",
    "\n",
    "domain=binom(n,w)*binom(n-w,w)\n",
    "ell_before=log(domain,q)\n",
    "ell=int(round(ell_before))\n",
    "\n",
    "if abs(ell-ell_before)>0.05:\n",
    "    print(\"WARNING: currently the functions always match on full vector coordinates.\")\n",
    "    print(\"However, the necessary value of coordinates to match for this configuration\")\n",
    "    print(\"is\",ell_before,\"but it will be used\", ell,\"this will lead to deviations in the distributions.\")\n",
    "    print(\"you can change that by modifying n and w slightly\")\n",
    "\n",
    "\n",
    "#generate random secrect s with w_s 1s and w_s -1s\n",
    "n_range=[i for i in range(n)]\n",
    "shuffle(n_range)\n",
    "s= np.array([0 for _ in range(n)])\n",
    "for i in range(2*w_s):\n",
    "    s[n_range[i]]=1 if i<w_s else -1\n",
    "        \n",
    "# generate A and corresponding b\n",
    "A=np.array([[randint(0,q-1) for _ in range(n)] for _ in range(n)])\n",
    "b = A.dot(s)%q\n",
    "\n",
    "\n",
    "# amount of representations\n",
    "reps=exact_reps()\n",
    "\n",
    "\n",
    "# used for the flavor (the permutation)\n",
    "f1=f2=0\n",
    "modul_p= prevprime(domain)\n"
   ]
  },
  {
   "cell_type": "code",
   "execution_count": 13,
   "id": "078e91bb-d421-4bdb-87b7-ea080364965a",
   "metadata": {},
   "outputs": [
    {
     "name": "stdout",
     "output_type": "stream",
     "text": [
      "Expected functions evals per collision 65.49809157525128\n"
     ]
    }
   ],
   "source": [
    "print(\"Expected functions evals per collision\", 2**(log2(domain)/2))"
   ]
  },
  {
   "cell_type": "code",
   "execution_count": 14,
   "id": "cdd72f73-5552-4055-8ff3-0569d8e776a0",
   "metadata": {},
   "outputs": [
    {
     "name": "stdout",
     "output_type": "stream",
     "text": [
      "Expected collisions to find solution 12.481079101562507\n"
     ]
    }
   ],
   "source": [
    "expected_colls_until_solution=domain**2 /q**ell/2**(reps)\n",
    "print(\"Expected collisions to find solution\",expected_colls_until_solution)"
   ]
  },
  {
   "cell_type": "code",
   "execution_count": 15,
   "id": "f7b4ce36-b451-4e2b-8e1d-c3860f06ab80",
   "metadata": {},
   "outputs": [],
   "source": [
    "Lfunc_calls=[]\n",
    "Lcolls=[]\n",
    "found=0\n",
    "total=0\n",
    "#iteration stops ones the solution has been found that often\n",
    "successes=200\n",
    "\n",
    "while True:\n",
    "    # choose new flavor\n",
    "    global f1,f2\n",
    "    f1,f2=randint(1,modul_p-1),randint(1,modul_p-1)\n",
    "    \n",
    "    # perform collision search\n",
    "    x,y,lam=floyd(collision_func,randint(1,domain-1))\n",
    "    \n",
    "    # about half the collisions will be between the functions for the same switch.\n",
    "    # those do not count towards the number of expected collisions, as they can not \n",
    "    # yield the solution.\n",
    "    if flavour(x)%2!=flavour(y)%2:\n",
    "        # Recompute vector given by collision\n",
    "        v=(projection_ternary(flavour(x),n,w)+projection_ternary(flavour(y),n,w))\n",
    "        bp=A.dot(v)%q\n",
    "\n",
    "        # a few collisions will not match due to the not matching values of ell*log2(q) and log2(domain)\n",
    "        # all for which the actual ell coordinates match are counted towards the found collisions\n",
    "        if all(((b-bp)%q)[0:ell]==0):\n",
    "            found+=1\n",
    "            Lfunc_calls.append(lam)\n",
    "\n",
    "        # if collision gives rise to solution store information \n",
    "        if all((projection_ternary(flavour(x),n,w)+projection_ternary(flavour(y),n,w))==s):\n",
    "            Lcolls.append(found)\n",
    "            found=0\n",
    "            total+=1\n",
    "            if total>=successes:\n",
    "                break"
   ]
  },
  {
   "cell_type": "code",
   "execution_count": 16,
   "id": "686e52bd-7a7a-4a4e-8ec9-125baf5b7249",
   "metadata": {},
   "outputs": [
    {
     "data": {
      "text/plain": [
       "67.59991843393148"
      ]
     },
     "execution_count": 16,
     "metadata": {},
     "output_type": "execute_result"
    }
   ],
   "source": [
    "sum(Lfunc_calls)/len(Lfunc_calls)"
   ]
  },
  {
   "cell_type": "code",
   "execution_count": 17,
   "id": "a7a8d4ae-1d17-4018-bbe8-754113a7348c",
   "metadata": {},
   "outputs": [
    {
     "data": {
      "text/plain": [
       "12.26"
      ]
     },
     "execution_count": 17,
     "metadata": {},
     "output_type": "execute_result"
    }
   ],
   "source": [
    "sum(Lcolls)/len(Lcolls)"
   ]
  },
  {
   "cell_type": "markdown",
   "id": "74702374-0887-4167-8737-178e1e4d5a58",
   "metadata": {},
   "source": [
    "### Perform collision search in random function"
   ]
  },
  {
   "cell_type": "code",
   "execution_count": null,
   "id": "a1184dab-b6aa-4527-ad9e-b0f3bee7778c",
   "metadata": {},
   "outputs": [],
   "source": [
    "Lrand=[]\n",
    "for i in range(1000):\n",
    "    global f1,f2\n",
    "    f1,f2=randint(1,modul_p-1),randint(1,modul_p-1)\n",
    "    x,y,lam=floyd(random_function,randint(1,domain-1))\n",
    "    Lrand.append(lam)"
   ]
  },
  {
   "cell_type": "code",
   "execution_count": 19,
   "id": "5dda726f-31be-4c99-9ebe-7223c997e4f5",
   "metadata": {},
   "outputs": [
    {
     "data": {
      "text/plain": [
       "68.779"
      ]
     },
     "execution_count": 19,
     "metadata": {},
     "output_type": "execute_result"
    }
   ],
   "source": [
    "print(\"Average of\",sum(Lrand)/len(Lrand),"
   ]
  }
 ],
 "metadata": {
  "kernelspec": {
   "display_name": "Python 3",
   "language": "python",
   "name": "python3"
  },
  "language_info": {
   "codemirror_mode": {
    "name": "ipython",
    "version": 3
   },
   "file_extension": ".py",
   "mimetype": "text/x-python",
   "name": "python",
   "nbconvert_exporter": "python",
   "pygments_lexer": "ipython3",
   "version": "3.9.16"
  }
 },
 "nbformat": 4,
 "nbformat_minor": 5
}
